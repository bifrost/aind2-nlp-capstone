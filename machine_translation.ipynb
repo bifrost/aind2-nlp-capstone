{
 "cells": [
  {
   "cell_type": "markdown",
   "metadata": {
    "collapsed": true
   },
   "source": [
    "# Artificial Intelligence Nanodegree\n",
    "## Machine Translation Project\n",
    "In this notebook, sections that end with **'(IMPLEMENTATION)'** in the header indicate that the following blocks of code will require additional functionality which you must provide. Please be sure to read the instructions carefully!\n",
    "\n",
    "## Introduction\n",
    "In this notebook, you will build a deep neural network that functions as part of an end-to-end machine translation pipeline. Your completed pipeline will accept English text as input and return the French translation.\n",
    "\n",
    "- **Preprocess** - You'll convert text to sequence of integers.\n",
    "- **Models** Create models which accepts a sequence of integers as input and returns a probability distribution over possible translations. After learning about the basic types of neural networks that are often used for machine translation, you will engage in your own investigations, to design your own model!\n",
    "- **Prediction** Run the model on English text."
   ]
  },
  {
   "cell_type": "code",
   "execution_count": 1,
   "metadata": {},
   "outputs": [],
   "source": [
    "%load_ext autoreload\n",
    "%aimport helper, tests\n",
    "%autoreload 1"
   ]
  },
  {
   "cell_type": "code",
   "execution_count": 2,
   "metadata": {},
   "outputs": [
    {
     "name": "stderr",
     "output_type": "stream",
     "text": [
      "Using TensorFlow backend.\n"
     ]
    }
   ],
   "source": [
    "import collections\n",
    "\n",
    "import helper\n",
    "import numpy as np\n",
    "import project_tests as tests\n",
    "\n",
    "from keras.preprocessing.text import Tokenizer\n",
    "from keras.preprocessing.sequence import pad_sequences\n",
    "from keras.models import Model\n",
    "from keras.layers import GRU, Input, Dense, TimeDistributed, Activation, RepeatVector, Bidirectional\n",
    "from keras.layers.embeddings import Embedding\n",
    "from keras.optimizers import Adam\n",
    "from keras.losses import sparse_categorical_crossentropy"
   ]
  },
  {
   "cell_type": "markdown",
   "metadata": {},
   "source": [
    "### Verify access to the GPU\n",
    "The following test applies only if you expect to be using a GPU, e.g., while running in a Udacity Workspace or using an AWS instance with GPU support. Run the next cell, and verify that the device_type is \"GPU\".\n",
    "- If the device is not GPU & you are running from a Udacity Workspace, then save your workspace with the icon at the top, then click \"enable\" at the bottom of the workspace.\n",
    "- If the device is not GPU & you are running from an AWS instance, then refer to the cloud computing instructions in the classroom to verify your setup steps."
   ]
  },
  {
   "cell_type": "code",
   "execution_count": 3,
   "metadata": {},
   "outputs": [
    {
     "name": "stdout",
     "output_type": "stream",
     "text": [
      "[name: \"/cpu:0\"\n",
      "device_type: \"CPU\"\n",
      "memory_limit: 268435456\n",
      "locality {\n",
      "}\n",
      "incarnation: 6961942356447937558\n",
      ", name: \"/gpu:0\"\n",
      "device_type: \"GPU\"\n",
      "memory_limit: 357302272\n",
      "locality {\n",
      "  bus_id: 1\n",
      "}\n",
      "incarnation: 9408941007341747197\n",
      "physical_device_desc: \"device: 0, name: Tesla K80, pci bus id: 0000:00:04.0\"\n",
      "]\n"
     ]
    }
   ],
   "source": [
    "from tensorflow.python.client import device_lib\n",
    "print(device_lib.list_local_devices())"
   ]
  },
  {
   "cell_type": "markdown",
   "metadata": {},
   "source": [
    "## Dataset\n",
    "We begin by investigating the dataset that will be used to train and evaluate your pipeline.  The most common datasets used for machine translation are from [WMT](http://www.statmt.org/).  However, that will take a long time to train a neural network on.  We'll be using a dataset we created for this project that contains a small vocabulary.  You'll be able to train your model in a reasonable time with this dataset.\n",
    "### Load Data\n",
    "The data is located in `data/small_vocab_en` and `data/small_vocab_fr`. The `small_vocab_en` file contains English sentences with their French translations in the `small_vocab_fr` file. Load the English and French data from these files from running the cell below."
   ]
  },
  {
   "cell_type": "code",
   "execution_count": 4,
   "metadata": {},
   "outputs": [
    {
     "name": "stdout",
     "output_type": "stream",
     "text": [
      "Dataset Loaded\n"
     ]
    }
   ],
   "source": [
    "# Load English data\n",
    "english_sentences = helper.load_data('data/small_vocab_en')\n",
    "# Load French data\n",
    "french_sentences = helper.load_data('data/small_vocab_fr')\n",
    "\n",
    "print('Dataset Loaded')"
   ]
  },
  {
   "cell_type": "markdown",
   "metadata": {},
   "source": [
    "### Files\n",
    "Each line in `small_vocab_en` contains an English sentence with the respective translation in each line of `small_vocab_fr`.  View the first two lines from each file."
   ]
  },
  {
   "cell_type": "code",
   "execution_count": 5,
   "metadata": {},
   "outputs": [
    {
     "name": "stdout",
     "output_type": "stream",
     "text": [
      "small_vocab_en Line 1:  new jersey is sometimes quiet during autumn , and it is snowy in april .\n",
      "small_vocab_fr Line 1:  new jersey est parfois calme pendant l' automne , et il est neigeux en avril .\n",
      "small_vocab_en Line 2:  the united states is usually chilly during july , and it is usually freezing in november .\n",
      "small_vocab_fr Line 2:  les états-unis est généralement froid en juillet , et il gèle habituellement en novembre .\n"
     ]
    }
   ],
   "source": [
    "for sample_i in range(2):\n",
    "    print('small_vocab_en Line {}:  {}'.format(sample_i + 1, english_sentences[sample_i]))\n",
    "    print('small_vocab_fr Line {}:  {}'.format(sample_i + 1, french_sentences[sample_i]))"
   ]
  },
  {
   "cell_type": "markdown",
   "metadata": {},
   "source": [
    "From looking at the sentences, you can see they have been preprocessed already.  The puncuations have been delimited using spaces. All the text have been converted to lowercase.  This should save you some time, but the text requires more preprocessing.\n",
    "### Vocabulary\n",
    "The complexity of the problem is determined by the complexity of the vocabulary.  A more complex vocabulary is a more complex problem.  Let's look at the complexity of the dataset we'll be working with."
   ]
  },
  {
   "cell_type": "code",
   "execution_count": 6,
   "metadata": {},
   "outputs": [
    {
     "name": "stdout",
     "output_type": "stream",
     "text": [
      "1823250 English words.\n",
      "227 unique English words.\n",
      "10 Most common words in the English dataset:\n",
      "\"is\" \",\" \".\" \"in\" \"it\" \"during\" \"the\" \"but\" \"and\" \"sometimes\"\n",
      "\n",
      "1961295 French words.\n",
      "355 unique French words.\n",
      "10 Most common words in the French dataset:\n",
      "\"est\" \".\" \",\" \"en\" \"il\" \"les\" \"mais\" \"et\" \"la\" \"parfois\"\n"
     ]
    }
   ],
   "source": [
    "english_words_counter = collections.Counter([word for sentence in english_sentences for word in sentence.split()])\n",
    "french_words_counter = collections.Counter([word for sentence in french_sentences for word in sentence.split()])\n",
    "\n",
    "print('{} English words.'.format(len([word for sentence in english_sentences for word in sentence.split()])))\n",
    "print('{} unique English words.'.format(len(english_words_counter)))\n",
    "print('10 Most common words in the English dataset:')\n",
    "print('\"' + '\" \"'.join(list(zip(*english_words_counter.most_common(10)))[0]) + '\"')\n",
    "print()\n",
    "print('{} French words.'.format(len([word for sentence in french_sentences for word in sentence.split()])))\n",
    "print('{} unique French words.'.format(len(french_words_counter)))\n",
    "print('10 Most common words in the French dataset:')\n",
    "print('\"' + '\" \"'.join(list(zip(*french_words_counter.most_common(10)))[0]) + '\"')"
   ]
  },
  {
   "cell_type": "markdown",
   "metadata": {},
   "source": [
    "For comparison, _Alice's Adventures in Wonderland_ contains 2,766 unique words of a total of 15,500 words.\n",
    "## Preprocess\n",
    "For this project, you won't use text data as input to your model. Instead, you'll convert the text into sequences of integers using the following preprocess methods:\n",
    "1. Tokenize the words into ids\n",
    "2. Add padding to make all the sequences the same length.\n",
    "\n",
    "Time to start preprocessing the data...\n",
    "### Tokenize (IMPLEMENTATION)\n",
    "For a neural network to predict on text data, it first has to be turned into data it can understand. Text data like \"dog\" is a sequence of ASCII character encodings.  Since a neural network is a series of multiplication and addition operations, the input data needs to be number(s).\n",
    "\n",
    "We can turn each character into a number or each word into a number.  These are called character and word ids, respectively.  Character ids are used for character level models that generate text predictions for each character.  A word level model uses word ids that generate text predictions for each word.  Word level models tend to learn better, since they are lower in complexity, so we'll use those.\n",
    "\n",
    "Turn each sentence into a sequence of words ids using Keras's [`Tokenizer`](https://keras.io/preprocessing/text/#tokenizer) function. Use this function to tokenize `english_sentences` and `french_sentences` in the cell below.\n",
    "\n",
    "Running the cell will run `tokenize` on sample data and show output for debugging."
   ]
  },
  {
   "cell_type": "code",
   "execution_count": 7,
   "metadata": {},
   "outputs": [
    {
     "name": "stdout",
     "output_type": "stream",
     "text": [
      "{'.': 1, 'the': 2, 'quick': 3, 'a': 4, 'brown': 5, 'fox': 6, 'jumps': 7, 'over': 8, 'lazy': 9, 'dog': 10, 'by': 11, 'jove': 12, ',': 13, 'my': 14, 'study': 15, 'of': 16, 'lexicography': 17, 'won': 18, 'prize': 19, 'this': 20, 'is': 21, 'short': 22, 'sentence': 23}\n",
      "\n",
      "Sequence 1 in x\n",
      "  Input:  The quick brown fox jumps over the lazy dog .\n",
      "  Output: [2, 3, 5, 6, 7, 8, 2, 9, 10, 1]\n",
      "Sequence 2 in x\n",
      "  Input:  By Jove , my quick study of lexicography won a prize .\n",
      "  Output: [11, 12, 13, 14, 3, 15, 16, 17, 18, 4, 19, 1]\n",
      "Sequence 3 in x\n",
      "  Input:  This is a short sentence .\n",
      "  Output: [20, 21, 4, 22, 23, 1]\n"
     ]
    }
   ],
   "source": [
    "def tokenize(x):\n",
    "    \"\"\"\n",
    "    Tokenize x\n",
    "    :param x: List of sentences/strings to be tokenized\n",
    "    :return: Tuple of (tokenized x data, tokenizer used to tokenize x)\n",
    "    \"\"\"\n",
    "    # TODO: Implement\n",
    "    x_tk = Tokenizer(filters='')\n",
    "    x_tk.fit_on_texts(x)\n",
    "    return x_tk.texts_to_sequences(x), x_tk\n",
    "tests.test_tokenize(tokenize)\n",
    "\n",
    "# Tokenize Example output\n",
    "text_sentences = [\n",
    "    'The quick brown fox jumps over the lazy dog .',\n",
    "    'By Jove , my quick study of lexicography won a prize .',\n",
    "    'This is a short sentence .']\n",
    "text_tokenized, text_tokenizer = tokenize(text_sentences)\n",
    "print(text_tokenizer.word_index)\n",
    "print()\n",
    "for sample_i, (sent, token_sent) in enumerate(zip(text_sentences, text_tokenized)):\n",
    "    print('Sequence {} in x'.format(sample_i + 1))\n",
    "    print('  Input:  {}'.format(sent))\n",
    "    print('  Output: {}'.format(token_sent))"
   ]
  },
  {
   "cell_type": "markdown",
   "metadata": {},
   "source": [
    "### Padding (IMPLEMENTATION)\n",
    "When batching the sequence of word ids together, each sequence needs to be the same length.  Since sentences are dynamic in length, we can add padding to the end of the sequences to make them the same length.\n",
    "\n",
    "Make sure all the English sequences have the same length and all the French sequences have the same length by adding padding to the **end** of each sequence using Keras's [`pad_sequences`](https://keras.io/preprocessing/sequence/#pad_sequences) function."
   ]
  },
  {
   "cell_type": "code",
   "execution_count": 8,
   "metadata": {},
   "outputs": [
    {
     "name": "stdout",
     "output_type": "stream",
     "text": [
      "Sequence 1 in x\n",
      "  Input:  [ 2  3  5  6  7  8  2  9 10  1]\n",
      "  Output: [ 2  3  5  6  7  8  2  9 10  1  0  0]\n",
      "Sequence 2 in x\n",
      "  Input:  [11 12 13 14  3 15 16 17 18  4 19  1]\n",
      "  Output: [11 12 13 14  3 15 16 17 18  4 19  1]\n",
      "Sequence 3 in x\n",
      "  Input:  [20 21  4 22 23  1]\n",
      "  Output: [20 21  4 22 23  1  0  0  0  0  0  0]\n"
     ]
    }
   ],
   "source": [
    "def pad(x, length=None):\n",
    "    \"\"\"\n",
    "    Pad x\n",
    "    :param x: List of sequences.\n",
    "    :param length: Length to pad the sequence to.  If None, use length of longest sequence in x.\n",
    "    :return: Padded numpy array of sequences\n",
    "    \"\"\"\n",
    "    # TODO: Implement\n",
    "    if length is None:\n",
    "        length = max([len(sentence) for sentence in x])\n",
    "    return pad_sequences(x, maxlen=length, padding='post')\n",
    "tests.test_pad(pad)\n",
    "\n",
    "# Pad Tokenized output\n",
    "test_pad = pad(text_tokenized)\n",
    "for sample_i, (token_sent, pad_sent) in enumerate(zip(text_tokenized, test_pad)):\n",
    "    print('Sequence {} in x'.format(sample_i + 1))\n",
    "    print('  Input:  {}'.format(np.array(token_sent)))\n",
    "    print('  Output: {}'.format(pad_sent))"
   ]
  },
  {
   "cell_type": "markdown",
   "metadata": {},
   "source": [
    "### Preprocess Pipeline\n",
    "Your focus for this project is to build neural network architecture, so we won't ask you to create a preprocess pipeline.  Instead, we've provided you with the implementation of the `preprocess` function."
   ]
  },
  {
   "cell_type": "code",
   "execution_count": 13,
   "metadata": {},
   "outputs": [
    {
     "name": "stdout",
     "output_type": "stream",
     "text": [
      "Data Preprocessed\n",
      "Max English sentence length: 17\n",
      "Max French sentence length: 23\n",
      "English vocabulary size: 228\n",
      "French vocabulary size: 355\n"
     ]
    }
   ],
   "source": [
    "def preprocess(x, y):\n",
    "    \"\"\"\n",
    "    Preprocess x and y\n",
    "    :param x: Feature List of sentences\n",
    "    :param y: Label List of sentences\n",
    "    :return: Tuple of (Preprocessed x, Preprocessed y, x tokenizer, y tokenizer)\n",
    "    \"\"\"\n",
    "    preprocess_x, x_tk = tokenize(x)\n",
    "    preprocess_y, y_tk = tokenize(y)\n",
    "\n",
    "    preprocess_x = pad(preprocess_x)\n",
    "    preprocess_y = pad(preprocess_y)\n",
    "\n",
    "    # Keras's sparse_categorical_crossentropy function requires the labels to be in 3 dimensions\n",
    "    preprocess_y = preprocess_y.reshape(*preprocess_y.shape, 1)\n",
    "\n",
    "    return preprocess_x, preprocess_y, x_tk, y_tk\n",
    "\n",
    "preproc_english_sentences, preproc_french_sentences, english_tokenizer, french_tokenizer =\\\n",
    "    preprocess(english_sentences, french_sentences)\n",
    "    \n",
    "max_english_sequence_length = preproc_english_sentences.shape[1]\n",
    "max_french_sequence_length = preproc_french_sentences.shape[1]\n",
    "english_vocab_size = len(english_tokenizer.word_index) + 1\n",
    "french_vocab_size = len(french_tokenizer.word_index) + 1\n",
    "\n",
    "print('Data Preprocessed')\n",
    "print(\"Max English sentence length:\", max_english_sequence_length)\n",
    "print(\"Max French sentence length:\", max_french_sequence_length)\n",
    "print(\"English vocabulary size:\", english_vocab_size)\n",
    "print(\"French vocabulary size:\", french_vocab_size)"
   ]
  },
  {
   "cell_type": "markdown",
   "metadata": {},
   "source": [
    "## Models\n",
    "In this section, you will experiment with various neural network architectures.\n",
    "You will begin by training four relatively simple architectures.\n",
    "- Model 1 is a simple RNN\n",
    "- Model 2 is a RNN with Embedding\n",
    "- Model 3 is a Bidirectional RNN\n",
    "- Model 4 is an optional Encoder-Decoder RNN\n",
    "\n",
    "After experimenting with the four simple architectures, you will construct a deeper architecture that is designed to outperform all four models.\n",
    "### Ids Back to Text\n",
    "The neural network will be translating the input to words ids, which isn't the final form we want.  We want the French translation.  The function `logits_to_text` will bridge the gab between the logits from the neural network to the French translation.  You'll be using this function to better understand the output of the neural network."
   ]
  },
  {
   "cell_type": "code",
   "execution_count": 10,
   "metadata": {},
   "outputs": [
    {
     "name": "stdout",
     "output_type": "stream",
     "text": [
      "`logits_to_text` function loaded.\n"
     ]
    }
   ],
   "source": [
    "def logits_to_text(logits, tokenizer):\n",
    "    \"\"\"\n",
    "    Turn logits from a neural network into text using the tokenizer\n",
    "    :param logits: Logits from a neural network\n",
    "    :param tokenizer: Keras Tokenizer fit on the labels\n",
    "    :return: String that represents the text of the logits\n",
    "    \"\"\"\n",
    "    index_to_words = {id: word for word, id in tokenizer.word_index.items()}\n",
    "    index_to_words[0] = '<PAD>'\n",
    "\n",
    "    return ' '.join([index_to_words[prediction] for prediction in np.argmax(logits, 1)])\n",
    "\n",
    "print('`logits_to_text` function loaded.')"
   ]
  },
  {
   "cell_type": "markdown",
   "metadata": {},
   "source": [
    "### Model 1: RNN (IMPLEMENTATION)\n",
    "![RNN](images/rnn.png)\n",
    "A basic RNN model is a good baseline for sequence data.  In this model, you'll build a RNN that translates English to French."
   ]
  },
  {
   "cell_type": "code",
   "execution_count": 14,
   "metadata": {},
   "outputs": [
    {
     "name": "stdout",
     "output_type": "stream",
     "text": [
      "Train on 110288 samples, validate on 27573 samples\n",
      "Epoch 1/10\n",
      "110288/110288 [==============================] - 9s 86us/step - loss: 1.9509 - acc: 0.5299 - val_loss: 1.4079 - val_acc: 0.6037\n",
      "Epoch 2/10\n",
      "110288/110288 [==============================] - 9s 81us/step - loss: 1.3008 - acc: 0.6234 - val_loss: 1.2198 - val_acc: 0.6356\n",
      "Epoch 3/10\n",
      "110288/110288 [==============================] - 9s 81us/step - loss: 1.1717 - acc: 0.6424 - val_loss: 1.1261 - val_acc: 0.6489\n",
      "Epoch 4/10\n",
      "110288/110288 [==============================] - 9s 81us/step - loss: 1.1047 - acc: 0.6499 - val_loss: 1.0759 - val_acc: 0.6571\n",
      "Epoch 5/10\n",
      "110288/110288 [==============================] - 9s 81us/step - loss: 1.0609 - acc: 0.6579 - val_loss: 1.0493 - val_acc: 0.6549\n",
      "Epoch 6/10\n",
      "110288/110288 [==============================] - 9s 81us/step - loss: 1.0322 - acc: 0.6630 - val_loss: 1.0114 - val_acc: 0.6724\n",
      "Epoch 7/10\n",
      "110288/110288 [==============================] - 9s 81us/step - loss: 1.0012 - acc: 0.6720 - val_loss: 0.9852 - val_acc: 0.6812\n",
      "Epoch 8/10\n",
      "110288/110288 [==============================] - 9s 81us/step - loss: 0.9843 - acc: 0.6766 - val_loss: 0.9902 - val_acc: 0.6721\n",
      "Epoch 9/10\n",
      "110288/110288 [==============================] - 9s 81us/step - loss: 0.9692 - acc: 0.6809 - val_loss: 1.0110 - val_acc: 0.6695\n",
      "Epoch 10/10\n",
      "110288/110288 [==============================] - 9s 81us/step - loss: 0.9492 - acc: 0.6871 - val_loss: 0.9314 - val_acc: 0.6987\n",
      "new jersey est parfois calme en mois de mai , il il il en en avril . <PAD> <PAD> <PAD> <PAD> <PAD> <PAD>\n"
     ]
    }
   ],
   "source": [
    "def simple_model(input_shape, output_sequence_length, english_vocab_size, french_vocab_size):\n",
    "    \"\"\"\n",
    "    Build and train a basic RNN on x and y\n",
    "    :param input_shape: Tuple of input shape\n",
    "    :param output_sequence_length: Length of output sequence\n",
    "    :param english_vocab_size: Number of unique English words in the dataset\n",
    "    :param french_vocab_size: Number of unique French words in the dataset\n",
    "    :return: Keras model built, but not trained\n",
    "    \"\"\"\n",
    "    # TODO: Build the layers\n",
    "    learning_rate = 0.01\n",
    "    \n",
    "    input_seq = Input(input_shape[1:])\n",
    "    rnn = GRU(128, return_sequences=True)(input_seq)\n",
    "    logits = TimeDistributed(Dense(french_vocab_size))(rnn)\n",
    "\n",
    "    model = Model(input_seq, Activation('softmax')(logits))\n",
    "    \n",
    "    model.compile(loss=sparse_categorical_crossentropy,\n",
    "                  optimizer=Adam(learning_rate),\n",
    "                  metrics=['accuracy'])\n",
    "    return model\n",
    "tests.test_simple_model(simple_model)\n",
    "\n",
    "# Reshaping the input to work with a basic RNN\n",
    "tmp_x = pad(preproc_english_sentences, max_french_sequence_length)\n",
    "tmp_x = tmp_x.reshape((-1, preproc_french_sentences.shape[-2], 1))\n",
    "\n",
    "# Train the neural network\n",
    "simple_rnn_model = simple_model(\n",
    "    tmp_x.shape,\n",
    "    max_french_sequence_length,\n",
    "    english_vocab_size,\n",
    "    french_vocab_size)\n",
    "simple_rnn_model.fit(tmp_x, preproc_french_sentences, batch_size=1024, epochs=10, validation_split=0.2)\n",
    "\n",
    "# Print prediction(s)\n",
    "print(logits_to_text(simple_rnn_model.predict(tmp_x[:1])[0], french_tokenizer))"
   ]
  },
  {
   "cell_type": "markdown",
   "metadata": {},
   "source": [
    "```\n",
    "new jersey is sometimes quiet during autumn , and it is snowy in april .\n",
    "new jersey est parfois calme pendant l' automne , et il est neigeux en avril .\n",
    "```"
   ]
  },
  {
   "cell_type": "markdown",
   "metadata": {},
   "source": [
    "### Model 2: Embedding (IMPLEMENTATION)\n",
    "![RNN](images/embedding.png)\n",
    "You've turned the words into ids, but there's a better representation of a word.  This is called word embeddings.  An embedding is a vector representation of the word that is close to similar words in n-dimensional space, where the n represents the size of the embedding vectors.\n",
    "\n",
    "In this model, you'll create a RNN model using embedding."
   ]
  },
  {
   "cell_type": "code",
   "execution_count": 14,
   "metadata": {},
   "outputs": [
    {
     "name": "stdout",
     "output_type": "stream",
     "text": [
      "Train on 110288 samples, validate on 27573 samples\n",
      "Epoch 1/10\n",
      "110288/110288 [==============================] - 12s 113us/step - loss: 1.5101 - acc: 0.6546 - val_loss: nan - val_acc: 0.8286\n",
      "Epoch 2/10\n",
      "110288/110288 [==============================] - 12s 107us/step - loss: 0.4500 - acc: 0.8600 - val_loss: nan - val_acc: 0.8848\n",
      "Epoch 3/10\n",
      "110288/110288 [==============================] - 12s 108us/step - loss: 0.3384 - acc: 0.8915 - val_loss: nan - val_acc: 0.8985\n",
      "Epoch 4/10\n",
      "110288/110288 [==============================] - 12s 108us/step - loss: 0.2994 - acc: 0.9030 - val_loss: nan - val_acc: 0.9071\n",
      "Epoch 5/10\n",
      "110288/110288 [==============================] - 12s 108us/step - loss: 0.2784 - acc: 0.9087 - val_loss: nan - val_acc: 0.9103\n",
      "Epoch 6/10\n",
      "110288/110288 [==============================] - 12s 108us/step - loss: 0.2647 - acc: 0.9124 - val_loss: nan - val_acc: 0.9125\n",
      "Epoch 7/10\n",
      "110288/110288 [==============================] - 12s 108us/step - loss: 0.2585 - acc: 0.9141 - val_loss: nan - val_acc: 0.9147\n",
      "Epoch 8/10\n",
      "110288/110288 [==============================] - 12s 108us/step - loss: 0.2508 - acc: 0.9160 - val_loss: nan - val_acc: 0.9144\n",
      "Epoch 9/10\n",
      "110288/110288 [==============================] - 12s 108us/step - loss: 0.2474 - acc: 0.9169 - val_loss: nan - val_acc: 0.9164\n",
      "Epoch 10/10\n",
      "110288/110288 [==============================] - 12s 107us/step - loss: 0.2476 - acc: 0.9169 - val_loss: nan - val_acc: 0.9161\n",
      "new jersey est parfois calme en l' automne , et il est neigeux en avril . <PAD> <PAD> <PAD> <PAD> <PAD> <PAD> <PAD>\n"
     ]
    }
   ],
   "source": [
    "def embed_model(input_shape, output_sequence_length, english_vocab_size, french_vocab_size):\n",
    "    \"\"\"\n",
    "    Build and train a RNN model using word embedding on x and y\n",
    "    :param input_shape: Tuple of input shape\n",
    "    :param output_sequence_length: Length of output sequence\n",
    "    :param english_vocab_size: Number of unique English words in the dataset\n",
    "    :param french_vocab_size: Number of unique French words in the dataset\n",
    "    :return: Keras model built, but not trained\n",
    "    \"\"\"\n",
    "    # TODO: Implement\n",
    "    learning_rate = 0.01\n",
    "\n",
    "    input_seq = Input(input_shape[1:])\n",
    "    embedding = Embedding(output_dim=300, input_dim=english_vocab_size, input_length=input_shape[1])(input_seq)\n",
    "    rnn = GRU(128, return_sequences=True)(embedding)\n",
    "    logits = TimeDistributed(Dense(french_vocab_size))(rnn)\n",
    "\n",
    "    model = Model(input_seq, Activation('softmax')(logits))\n",
    "    \n",
    "    model.compile(loss=sparse_categorical_crossentropy,\n",
    "                  optimizer=Adam(learning_rate),\n",
    "                  metrics=['accuracy'])\n",
    "    return model\n",
    "tests.test_embed_model(embed_model)\n",
    "\n",
    "\n",
    "# TODO: Reshape the input\n",
    "tmp_x = pad(preproc_english_sentences, max_french_sequence_length)\n",
    "tmp_x = tmp_x.reshape((-1, preproc_french_sentences.shape[-2]))\n",
    "\n",
    "# TODO: Train the neural network\n",
    "embed_rnn_model = embed_model(\n",
    "    tmp_x.shape,\n",
    "    max_french_sequence_length,\n",
    "    english_vocab_size,\n",
    "    french_vocab_size)\n",
    "embed_rnn_model.fit(tmp_x, preproc_french_sentences, batch_size=1024, epochs=10, validation_split=0.2)\n",
    "\n",
    "# Print prediction(s)\n",
    "print(logits_to_text(embed_rnn_model.predict(tmp_x[:1])[0], french_tokenizer))"
   ]
  },
  {
   "cell_type": "markdown",
   "metadata": {},
   "source": [
    "```\n",
    "new jersey is sometimes quiet during autumn , and it is snowy in april .\n",
    "new jersey est parfois calme pendant l' automne , et il est neigeux en avril .\n",
    "```"
   ]
  },
  {
   "cell_type": "markdown",
   "metadata": {},
   "source": [
    "### Model 3: Bidirectional RNNs (IMPLEMENTATION)\n",
    "![RNN](images/bidirectional.png)\n",
    "One restriction of a RNN is that it can't see the future input, only the past.  This is where bidirectional recurrent neural networks come in.  They are able to see the future data."
   ]
  },
  {
   "cell_type": "code",
   "execution_count": 16,
   "metadata": {},
   "outputs": [
    {
     "name": "stdout",
     "output_type": "stream",
     "text": [
      "Train on 110288 samples, validate on 27573 samples\n",
      "Epoch 1/10\n",
      "110288/110288 [==============================] - 15s 138us/step - loss: 1.6486 - acc: 0.5802 - val_loss: nan - val_acc: 0.6453\n",
      "Epoch 2/10\n",
      "110288/110288 [==============================] - 14s 128us/step - loss: 1.1176 - acc: 0.6571 - val_loss: nan - val_acc: 0.6703\n",
      "Epoch 3/10\n",
      "110288/110288 [==============================] - 14s 127us/step - loss: 0.9973 - acc: 0.6779 - val_loss: nan - val_acc: 0.6820\n",
      "Epoch 4/10\n",
      "110288/110288 [==============================] - 14s 127us/step - loss: 0.9366 - acc: 0.6872 - val_loss: nan - val_acc: 0.6947\n",
      "Epoch 5/10\n",
      "110288/110288 [==============================] - 14s 127us/step - loss: 0.8986 - acc: 0.6936 - val_loss: nan - val_acc: 0.6983\n",
      "Epoch 6/10\n",
      "110288/110288 [==============================] - 14s 127us/step - loss: 0.8730 - acc: 0.6977 - val_loss: nan - val_acc: 0.6993\n",
      "Epoch 7/10\n",
      "110288/110288 [==============================] - 14s 127us/step - loss: 0.8368 - acc: 0.7061 - val_loss: nan - val_acc: 0.7154\n",
      "Epoch 8/10\n",
      "110288/110288 [==============================] - 14s 125us/step - loss: 0.8082 - acc: 0.7121 - val_loss: nan - val_acc: 0.7146\n",
      "Epoch 9/10\n",
      "110288/110288 [==============================] - 14s 125us/step - loss: 0.7837 - acc: 0.7197 - val_loss: nan - val_acc: 0.7275\n",
      "Epoch 10/10\n",
      "110288/110288 [==============================] - 14s 125us/step - loss: 0.7644 - acc: 0.7267 - val_loss: nan - val_acc: 0.7387\n",
      "new jersey est parfois calme en l' de et il il il en en . <PAD> <PAD> <PAD> <PAD> <PAD> <PAD> <PAD> <PAD>\n"
     ]
    }
   ],
   "source": [
    "def bd_model(input_shape, output_sequence_length, english_vocab_size, french_vocab_size):\n",
    "    \"\"\"\n",
    "    Build and train a bidirectional RNN model on x and y\n",
    "    :param input_shape: Tuple of input shape\n",
    "    :param output_sequence_length: Length of output sequence\n",
    "    :param english_vocab_size: Number of unique English words in the dataset\n",
    "    :param french_vocab_size: Number of unique French words in the dataset\n",
    "    :return: Keras model built, but not trained\n",
    "    \"\"\"\n",
    "    # TODO: Implement\n",
    "    learning_rate = 0.01\n",
    "    \n",
    "    input_seq = Input(input_shape[1:])\n",
    "    \n",
    "    bd_rnn = Bidirectional(GRU(128, return_sequences=True))(input_seq)\n",
    "    logits = TimeDistributed(Dense(french_vocab_size))(bd_rnn)\n",
    "\n",
    "    model = Model(input_seq, Activation('softmax')(logits))\n",
    "    \n",
    "    model.compile(loss=sparse_categorical_crossentropy,\n",
    "                  optimizer=Adam(learning_rate),\n",
    "                  metrics=['accuracy'])\n",
    "    return model\n",
    "tests.test_bd_model(bd_model)\n",
    "\n",
    "# TODO: Reshape the input\n",
    "tmp_x = pad(preproc_english_sentences, max_french_sequence_length)\n",
    "tmp_x = tmp_x.reshape((-1, preproc_french_sentences.shape[-2], 1))\n",
    "\n",
    "# Train the neural network\n",
    "bd_rnn_model = bd_model(\n",
    "    tmp_x.shape,\n",
    "    max_french_sequence_length,\n",
    "    english_vocab_size,\n",
    "    french_vocab_size)\n",
    "bd_rnn_model.fit(tmp_x, preproc_french_sentences, batch_size=1024, epochs=10, validation_split=0.2)\n",
    "\n",
    "# Print prediction(s)\n",
    "print(logits_to_text(bd_rnn_model.predict(tmp_x[:1])[0], french_tokenizer))"
   ]
  },
  {
   "cell_type": "markdown",
   "metadata": {},
   "source": [
    "```\n",
    "new jersey is sometimes quiet during autumn , and it is snowy in april .\n",
    "new jersey est parfois calme pendant l' automne , et il est neigeux en avril .\n",
    "```"
   ]
  },
  {
   "cell_type": "markdown",
   "metadata": {},
   "source": [
    "### Model 4: Encoder-Decoder (OPTIONAL)\n",
    "Time to look at encoder-decoder models.  This model is made up of an encoder and decoder. The encoder creates a matrix representation of the sentence.  The decoder takes this matrix as input and predicts the translation as output.\n",
    "\n",
    "Create an encoder-decoder model in the cell below."
   ]
  },
  {
   "cell_type": "code",
   "execution_count": 19,
   "metadata": {},
   "outputs": [
    {
     "name": "stdout",
     "output_type": "stream",
     "text": [
      "Train on 110288 samples, validate on 27573 samples\n",
      "Epoch 1/20\n",
      "110288/110288 [==============================] - 15s 136us/step - loss: 2.7394 - acc: 0.4365 - val_loss: nan - val_acc: 0.4792\n",
      "Epoch 2/20\n",
      "110288/110288 [==============================] - 14s 123us/step - loss: 2.0716 - acc: 0.5096 - val_loss: nan - val_acc: 0.5362\n",
      "Epoch 3/20\n",
      "110288/110288 [==============================] - 13s 122us/step - loss: 1.7432 - acc: 0.5428 - val_loss: nan - val_acc: 0.5583\n",
      "Epoch 4/20\n",
      "110288/110288 [==============================] - 13s 122us/step - loss: 1.5990 - acc: 0.5647 - val_loss: nan - val_acc: 0.5538\n",
      "Epoch 5/20\n",
      "110288/110288 [==============================] - 14s 123us/step - loss: 1.5121 - acc: 0.5814 - val_loss: nan - val_acc: 0.5861\n",
      "Epoch 6/20\n",
      "110288/110288 [==============================] - 14s 122us/step - loss: 1.4388 - acc: 0.5944 - val_loss: nan - val_acc: 0.6022\n",
      "Epoch 7/20\n",
      "110288/110288 [==============================] - 14s 123us/step - loss: 1.3729 - acc: 0.6086 - val_loss: nan - val_acc: 0.6145\n",
      "Epoch 8/20\n",
      "110288/110288 [==============================] - 13s 122us/step - loss: 1.3293 - acc: 0.6173 - val_loss: nan - val_acc: 0.6229\n",
      "Epoch 9/20\n",
      "110288/110288 [==============================] - 14s 123us/step - loss: 1.2914 - acc: 0.6272 - val_loss: nan - val_acc: 0.6325\n",
      "Epoch 10/20\n",
      "110288/110288 [==============================] - 13s 122us/step - loss: 1.2945 - acc: 0.6243 - val_loss: nan - val_acc: 0.6355\n",
      "Epoch 11/20\n",
      "110288/110288 [==============================] - 14s 123us/step - loss: 1.2474 - acc: 0.6352 - val_loss: nan - val_acc: 0.6367\n",
      "Epoch 12/20\n",
      "110288/110288 [==============================] - 14s 122us/step - loss: 1.3429 - acc: 0.6170 - val_loss: nan - val_acc: 0.5932\n",
      "Epoch 13/20\n",
      "110288/110288 [==============================] - 14s 123us/step - loss: 1.2793 - acc: 0.6282 - val_loss: nan - val_acc: 0.6426\n",
      "Epoch 14/20\n",
      "110288/110288 [==============================] - 13s 122us/step - loss: 1.2332 - acc: 0.6383 - val_loss: nan - val_acc: 0.6444\n",
      "Epoch 15/20\n",
      "110288/110288 [==============================] - 14s 122us/step - loss: 1.2217 - acc: 0.6405 - val_loss: nan - val_acc: 0.6502\n",
      "Epoch 16/20\n",
      "110288/110288 [==============================] - 14s 123us/step - loss: 1.2110 - acc: 0.6435 - val_loss: nan - val_acc: 0.6463\n",
      "Epoch 17/20\n",
      "110288/110288 [==============================] - 14s 124us/step - loss: 1.1947 - acc: 0.6478 - val_loss: nan - val_acc: 0.6491\n",
      "Epoch 18/20\n",
      "110288/110288 [==============================] - 14s 123us/step - loss: 1.1791 - acc: 0.6511 - val_loss: nan - val_acc: 0.6503\n",
      "Epoch 19/20\n",
      "110288/110288 [==============================] - 13s 122us/step - loss: 1.1736 - acc: 0.6533 - val_loss: nan - val_acc: 0.6622\n",
      "Epoch 20/20\n",
      "110288/110288 [==============================] - 13s 122us/step - loss: 1.1784 - acc: 0.6525 - val_loss: nan - val_acc: 0.6661\n",
      "new jersey est parfois agréable en mois , et il est est en en . <PAD> <PAD> <PAD> <PAD> <PAD> <PAD> <PAD> <PAD>\n"
     ]
    }
   ],
   "source": [
    "def encdec_model(input_shape, output_sequence_length, english_vocab_size, french_vocab_size):\n",
    "    \"\"\"\n",
    "    Build and train an encoder-decoder model on x and y\n",
    "    :param input_shape: Tuple of input shape\n",
    "    :param output_sequence_length: Length of output sequence\n",
    "    :param english_vocab_size: Number of unique English words in the dataset\n",
    "    :param french_vocab_size: Number of unique French words in the dataset\n",
    "    :return: Keras model built, but not trained\n",
    "    \"\"\"\n",
    "    # OPTIONAL: Implement\n",
    "    learning_rate = 0.005\n",
    "    \n",
    "    input_seq = Input(input_shape[1:])\n",
    "    encoder = GRU(128)(input_seq)\n",
    "    encoder = RepeatVector(output_sequence_length)(encoder)\n",
    "    \n",
    "    decoder = GRU(128, return_sequences=True)(encoder)\n",
    "    logits = TimeDistributed(Dense(french_vocab_size))(decoder)\n",
    "\n",
    "    model = Model(input_seq, Activation('softmax')(logits))\n",
    "    \n",
    "    model.compile(loss=sparse_categorical_crossentropy,\n",
    "                  optimizer=Adam(learning_rate),\n",
    "                  metrics=['accuracy'])\n",
    "    return model\n",
    "\n",
    "tests.test_encdec_model(encdec_model)\n",
    "\n",
    "# OPTIONAL: Train and Print prediction(s)\n",
    "\n",
    "# Reshape the input\n",
    "tmp_x = preproc_english_sentences.reshape(preproc_english_sentences.shape + (1,))\n",
    "\n",
    "# rain the neural network\n",
    "encdec_rnn_model = encdec_model(\n",
    "    tmp_x.shape,\n",
    "    max_french_sequence_length,\n",
    "    english_vocab_size,\n",
    "    french_vocab_size)\n",
    "encdec_rnn_model.fit(tmp_x, preproc_french_sentences, batch_size=1024, epochs=20, validation_split=0.2)\n",
    "\n",
    "# Print prediction(s)\n",
    "print(logits_to_text(encdec_rnn_model.predict(tmp_x[:1])[0], french_tokenizer))\n"
   ]
  },
  {
   "cell_type": "markdown",
   "metadata": {},
   "source": [
    "```\n",
    "new jersey is sometimes quiet during autumn , and it is snowy in april .\n",
    "new jersey est parfois calme pendant l' automne , et il est neigeux en avril .\n",
    "```"
   ]
  },
  {
   "cell_type": "markdown",
   "metadata": {},
   "source": [
    "### Model 5: Custom (IMPLEMENTATION)\n",
    "Use everything you learned from the previous models to create a model that incorporates embedding and a bidirectional rnn into one model."
   ]
  },
  {
   "cell_type": "code",
   "execution_count": 15,
   "metadata": {},
   "outputs": [
    {
     "name": "stdout",
     "output_type": "stream",
     "text": [
      "Final Model Loaded\n"
     ]
    }
   ],
   "source": [
    "def model_final(input_shape, output_sequence_length, english_vocab_size, french_vocab_size):\n",
    "    \"\"\"\n",
    "    Build and train a model that incorporates embedding, encoder-decoder, and bidirectional RNN on x and y\n",
    "    :param input_shape: Tuple of input shape\n",
    "    :param output_sequence_length: Length of output sequence\n",
    "    :param english_vocab_size: Number of unique English words in the dataset\n",
    "    :param french_vocab_size: Number of unique French words in the dataset\n",
    "    :return: Keras model built, but not trained\n",
    "    \"\"\"\n",
    "    # TODO: Implement\n",
    "    learning_rate = 0.002\n",
    "    decay = 0.00001\n",
    "    \n",
    "    input_seq = Input(input_shape[1:])\n",
    "    encoder = Embedding(output_dim=300, input_dim=english_vocab_size, input_length=input_shape[1])(input_seq)\n",
    "    encoder = Bidirectional(GRU(128))(encoder)\n",
    "    encoder = RepeatVector(output_sequence_length)(encoder)\n",
    "    \n",
    "    decoder = GRU(128, return_sequences=True)(encoder)\n",
    "    logits = TimeDistributed(Dense(french_vocab_size))(decoder)\n",
    "\n",
    "    model = Model(input_seq, Activation('softmax')(logits))\n",
    "    \n",
    "    model.compile(loss=sparse_categorical_crossentropy,\n",
    "                  optimizer=Adam(learning_rate, decay=decay),\n",
    "                  metrics=['accuracy'])\n",
    "    return model\n",
    "tests.test_model_final(model_final)\n",
    "\n",
    "\n",
    "print('Final Model Loaded')\n",
    "final_rnn_model = model_final(\n",
    "    preproc_english_sentences.shape,\n",
    "    max_french_sequence_length,\n",
    "    english_vocab_size,\n",
    "    french_vocab_size)"
   ]
  },
  {
   "cell_type": "markdown",
   "metadata": {},
   "source": [
    "## Prediction (IMPLEMENTATION)"
   ]
  },
  {
   "cell_type": "code",
   "execution_count": 16,
   "metadata": {},
   "outputs": [
    {
     "name": "stdout",
     "output_type": "stream",
     "text": [
      "Train on 110288 samples, validate on 27573 samples\n",
      "Epoch 1/30\n",
      "110288/110288 [==============================] - 22s 196us/step - loss: 2.8943 - acc: 0.4123 - val_loss: 2.1505 - val_acc: 0.4577\n",
      "Epoch 2/30\n",
      "110288/110288 [==============================] - 20s 185us/step - loss: 1.9670 - acc: 0.5016 - val_loss: 1.7848 - val_acc: 0.5553\n",
      "Epoch 3/30\n",
      "110288/110288 [==============================] - 21s 187us/step - loss: 1.6287 - acc: 0.5725 - val_loss: 1.4842 - val_acc: 0.5988\n",
      "Epoch 4/30\n",
      "110288/110288 [==============================] - 21s 187us/step - loss: 1.3925 - acc: 0.6205 - val_loss: 1.3063 - val_acc: 0.6420\n",
      "Epoch 5/30\n",
      "110288/110288 [==============================] - 21s 187us/step - loss: 1.2222 - acc: 0.6644 - val_loss: 1.1355 - val_acc: 0.6889\n",
      "Epoch 6/30\n",
      "110288/110288 [==============================] - 21s 187us/step - loss: 1.0629 - acc: 0.7067 - val_loss: 0.9887 - val_acc: 0.7265\n",
      "Epoch 7/30\n",
      "110288/110288 [==============================] - 21s 187us/step - loss: 0.9430 - acc: 0.7362 - val_loss: 0.8844 - val_acc: 0.7539\n",
      "Epoch 8/30\n",
      "110288/110288 [==============================] - 21s 187us/step - loss: 0.8276 - acc: 0.7667 - val_loss: 0.8138 - val_acc: 0.7701\n",
      "Epoch 9/30\n",
      "110288/110288 [==============================] - 21s 187us/step - loss: 0.7399 - acc: 0.7902 - val_loss: 0.6931 - val_acc: 0.8021\n",
      "Epoch 10/30\n",
      "110288/110288 [==============================] - 21s 187us/step - loss: 0.6669 - acc: 0.8090 - val_loss: 0.6225 - val_acc: 0.8205\n",
      "Epoch 11/30\n",
      "110288/110288 [==============================] - 21s 187us/step - loss: 0.5925 - acc: 0.8287 - val_loss: 0.5601 - val_acc: 0.8366\n",
      "Epoch 12/30\n",
      "110288/110288 [==============================] - 21s 187us/step - loss: 0.5315 - acc: 0.8453 - val_loss: 0.5001 - val_acc: 0.8550\n",
      "Epoch 13/30\n",
      "110288/110288 [==============================] - 21s 187us/step - loss: 0.4681 - acc: 0.8653 - val_loss: 0.4561 - val_acc: 0.8697\n",
      "Epoch 14/30\n",
      "110288/110288 [==============================] - 21s 187us/step - loss: 0.4214 - acc: 0.8813 - val_loss: 0.4006 - val_acc: 0.8909\n",
      "Epoch 15/30\n",
      "110288/110288 [==============================] - 21s 187us/step - loss: 0.3664 - acc: 0.9009 - val_loss: 0.3439 - val_acc: 0.9105\n",
      "Epoch 16/30\n",
      "110288/110288 [==============================] - 21s 187us/step - loss: 0.3303 - acc: 0.9145 - val_loss: 0.3094 - val_acc: 0.9224\n",
      "Epoch 17/30\n",
      "110288/110288 [==============================] - 20s 186us/step - loss: 0.2831 - acc: 0.9299 - val_loss: 0.2700 - val_acc: 0.9347\n",
      "Epoch 18/30\n",
      "110288/110288 [==============================] - 21s 187us/step - loss: 0.2437 - acc: 0.9425 - val_loss: 0.2546 - val_acc: 0.9401\n",
      "Epoch 19/30\n",
      "110288/110288 [==============================] - 21s 187us/step - loss: 0.2447 - acc: 0.9410 - val_loss: 0.2210 - val_acc: 0.9484\n",
      "Epoch 20/30\n",
      "110288/110288 [==============================] - 21s 187us/step - loss: 0.1982 - acc: 0.9538 - val_loss: 0.2084 - val_acc: 0.9515\n",
      "Epoch 21/30\n",
      "110288/110288 [==============================] - 21s 187us/step - loss: 0.1879 - acc: 0.9558 - val_loss: 0.2072 - val_acc: 0.9501\n",
      "Epoch 22/30\n",
      "110288/110288 [==============================] - 21s 187us/step - loss: 0.1897 - acc: 0.9543 - val_loss: 0.1914 - val_acc: 0.9543\n",
      "Epoch 23/30\n",
      "110288/110288 [==============================] - 21s 187us/step - loss: 0.2067 - acc: 0.9488 - val_loss: 0.1796 - val_acc: 0.9572\n",
      "Epoch 24/30\n",
      "110288/110288 [==============================] - 21s 187us/step - loss: 0.1576 - acc: 0.9627 - val_loss: 0.1672 - val_acc: 0.9606\n",
      "Epoch 25/30\n",
      "110288/110288 [==============================] - 21s 187us/step - loss: 0.1432 - acc: 0.9659 - val_loss: 0.1561 - val_acc: 0.9625\n",
      "Epoch 26/30\n",
      "110288/110288 [==============================] - 21s 187us/step - loss: 0.1340 - acc: 0.9679 - val_loss: 0.1473 - val_acc: 0.9641\n",
      "Epoch 27/30\n",
      "110288/110288 [==============================] - 21s 187us/step - loss: 0.1186 - acc: 0.9713 - val_loss: 0.1307 - val_acc: 0.9684\n",
      "Epoch 28/30\n",
      "110288/110288 [==============================] - 21s 187us/step - loss: 0.1359 - acc: 0.9660 - val_loss: 0.1357 - val_acc: 0.9672\n",
      "Epoch 29/30\n",
      "110288/110288 [==============================] - 21s 188us/step - loss: 0.1152 - acc: 0.9719 - val_loss: 0.1347 - val_acc: 0.9671\n",
      "Epoch 30/30\n",
      "110288/110288 [==============================] - 21s 188us/step - loss: 0.1101 - acc: 0.9735 - val_loss: 0.1291 - val_acc: 0.9684\n",
      "Sample 1:\n",
      "il a vu un vieux camion jaune . <PAD> <PAD> <PAD> <PAD> <PAD> <PAD> <PAD> <PAD> <PAD> <PAD> <PAD> <PAD> <PAD> <PAD> <PAD>\n",
      "Il a vu un vieux camion jaune\n",
      "Sample 2:\n",
      "new jersey est parfois calme pendant l' automne , et il est neigeux en avril . <PAD> <PAD> <PAD> <PAD> <PAD> <PAD> <PAD>\n",
      "new jersey est parfois calme pendant l' automne , et il est neigeux en avril . <PAD> <PAD> <PAD> <PAD> <PAD> <PAD> <PAD>\n"
     ]
    }
   ],
   "source": [
    "def final_predictions(x, y, x_tk, y_tk):\n",
    "    \"\"\"\n",
    "    Gets predictions using the final model\n",
    "    :param x: Preprocessed English data\n",
    "    :param y: Preprocessed French data\n",
    "    :param x_tk: English tokenizer\n",
    "    :param y_tk: French tokenizer\n",
    "    \"\"\"\n",
    "    # TODO: Train neural network using model_final\n",
    "    model = final_rnn_model\n",
    "    model.fit(x, y, batch_size=1024, epochs=30, validation_split=0.2)\n",
    "\n",
    "    \n",
    "    ## DON'T EDIT ANYTHING BELOW THIS LINE\n",
    "    y_id_to_word = {value: key for key, value in y_tk.word_index.items()}\n",
    "    y_id_to_word[0] = '<PAD>'\n",
    "\n",
    "    sentence = 'he saw a old yellow truck'\n",
    "    sentence = [x_tk.word_index[word] for word in sentence.split()]\n",
    "    sentence = pad_sequences([sentence], maxlen=x.shape[-1], padding='post')\n",
    "    sentences = np.array([sentence[0], x[0]])\n",
    "    predictions = model.predict(sentences, len(sentences))\n",
    "\n",
    "    print('Sample 1:')\n",
    "    print(' '.join([y_id_to_word[np.argmax(x)] for x in predictions[0]]))\n",
    "    print('Il a vu un vieux camion jaune')\n",
    "    print('Sample 2:')\n",
    "    print(' '.join([y_id_to_word[np.argmax(x)] for x in predictions[1]]))\n",
    "    print(' '.join([y_id_to_word[np.max(x)] for x in y[0]]))\n",
    "\n",
    "\n",
    "final_predictions(preproc_english_sentences, preproc_french_sentences, english_tokenizer, french_tokenizer)"
   ]
  },
  {
   "cell_type": "markdown",
   "metadata": {},
   "source": [
    "```\n",
    "new jersey is sometimes quiet during autumn , and it is snowy in april .\n",
    "new jersey est parfois calme pendant l' automne , et il est neigeux en avril .\n",
    "```"
   ]
  },
  {
   "cell_type": "markdown",
   "metadata": {},
   "source": [
    "## Submission\n",
    "When you're ready to submit, complete the following steps:\n",
    "1. Review the [rubric](https://review.udacity.com/#!/rubrics/1004/view) to ensure your submission meets all requirements to pass\n",
    "2. Generate an HTML version of this notebook\n",
    "\n",
    "  - Run the next cell to attempt automatic generation (this is the recommended method in Workspaces)\n",
    "  - Navigate to **FILE -> Download as -> HTML (.html)**\n",
    "  - Manually generate a copy using `nbconvert` from your shell terminal\n",
    "```\n",
    "$ pip install nbconvert\n",
    "$ python -m nbconvert machine_translation.ipynb\n",
    "```\n",
    "  \n",
    "3. Submit the project\n",
    "\n",
    "  - If you are in a Workspace, simply click the \"Submit Project\" button (bottom towards the right)\n",
    "  \n",
    "  - Otherwise, add the following files into a zip archive and submit them \n",
    "  - `helper.py`\n",
    "  - `machine_translation.ipynb`\n",
    "  - `machine_translation.html`\n",
    "    - You can export the notebook by navigating to **File -> Download as -> HTML (.html)**."
   ]
  },
  {
   "cell_type": "markdown",
   "metadata": {},
   "source": [
    "### Generate the html\n",
    "\n",
    "**Save your notebook before running the next cell to generate the HTML output.** Then submit your project."
   ]
  },
  {
   "cell_type": "code",
   "execution_count": 1,
   "metadata": {},
   "outputs": [
    {
     "data": {
      "text/plain": [
       "['[NbConvertApp] Converting notebook machine_translation.ipynb to html',\n",
       " '[NbConvertApp] Writing 437540 bytes to machine_translation.html',\n",
       " '[NbConvertApp] Converting notebook machine_translation-zh.ipynb to html',\n",
       " '[NbConvertApp] Writing 328614 bytes to machine_translation-zh.html']"
      ]
     },
     "execution_count": 1,
     "metadata": {},
     "output_type": "execute_result"
    }
   ],
   "source": [
    "# Save before you run this cell!\n",
    "!!jupyter nbconvert *.ipynb"
   ]
  },
  {
   "cell_type": "markdown",
   "metadata": {},
   "source": [
    "## Optional Enhancements\n",
    "\n",
    "This project focuses on learning various network architectures for machine translation, but we don't evaluate the models according to best practices by splitting the data into separate test & training sets -- so the model accuracy is overstated. Use the [`sklearn.model_selection.train_test_split()`](http://scikit-learn.org/stable/modules/generated/sklearn.model_selection.train_test_split.html) function to create separate training & test datasets, then retrain each of the models using only the training set and evaluate the prediction accuracy using the hold out test set. Does the \"best\" model change?"
   ]
  },
  {
   "cell_type": "markdown",
   "metadata": {},
   "source": [
    "### Answer\n",
    "The precision of the model decrease a bit in the learning phase. That might be because of lesser update steps. But the accuracy of the test data is nearly as good as the accuracy of the validation data, that's pretty good."
   ]
  },
  {
   "cell_type": "markdown",
   "metadata": {},
   "source": [
    "## Split into train and test sets"
   ]
  },
  {
   "cell_type": "code",
   "execution_count": 22,
   "metadata": {},
   "outputs": [
    {
     "name": "stdout",
     "output_type": "stream",
     "text": [
      "Data Splitted\n",
      "Train size: 110288\n",
      "Test size: 27573\n"
     ]
    }
   ],
   "source": [
    "from sklearn.model_selection import train_test_split\n",
    "\n",
    "english_sentences_train, english_sentences_test, french_sentences_train, french_sentences_test = \\\n",
    "train_test_split(preproc_english_sentences, preproc_french_sentences, test_size=0.2)\n",
    "\n",
    "print('Data Splitted')\n",
    "print(\"Train size:\", len(english_sentences_train))\n",
    "print(\"Test size:\", len(english_sentences_test))"
   ]
  },
  {
   "cell_type": "code",
   "execution_count": 73,
   "metadata": {},
   "outputs": [
    {
     "name": "stdout",
     "output_type": "stream",
     "text": [
      "Train on 88230 samples, validate on 22058 samples\n",
      "Epoch 1/30\n",
      "88230/88230 [==============================] - 20s 232us/step - loss: 3.0357 - acc: 0.4066 - val_loss: 2.3542 - val_acc: 0.4375\n",
      "Epoch 2/30\n",
      "88230/88230 [==============================] - 17s 195us/step - loss: 2.1214 - acc: 0.4836 - val_loss: 1.9497 - val_acc: 0.5169\n",
      "Epoch 3/30\n",
      "88230/88230 [==============================] - 17s 193us/step - loss: 1.8284 - acc: 0.5381 - val_loss: 1.6860 - val_acc: 0.5598\n",
      "Epoch 4/30\n",
      "88230/88230 [==============================] - 17s 196us/step - loss: 1.5794 - acc: 0.5860 - val_loss: 1.4805 - val_acc: 0.6051\n",
      "Epoch 5/30\n",
      "88230/88230 [==============================] - 17s 196us/step - loss: 1.3992 - acc: 0.6254 - val_loss: 1.3213 - val_acc: 0.6425\n",
      "Epoch 6/30\n",
      "88230/88230 [==============================] - 17s 196us/step - loss: 1.2438 - acc: 0.6625 - val_loss: 1.1718 - val_acc: 0.6796\n",
      "Epoch 7/30\n",
      "88230/88230 [==============================] - 17s 196us/step - loss: 1.1163 - acc: 0.6955 - val_loss: 1.0709 - val_acc: 0.7056\n",
      "Epoch 8/30\n",
      "88230/88230 [==============================] - 17s 196us/step - loss: 1.0279 - acc: 0.7161 - val_loss: 0.9995 - val_acc: 0.7223\n",
      "Epoch 9/30\n",
      "88230/88230 [==============================] - 17s 196us/step - loss: 0.9408 - acc: 0.7367 - val_loss: 0.9112 - val_acc: 0.7427\n",
      "Epoch 10/30\n",
      "88230/88230 [==============================] - 17s 196us/step - loss: 0.8706 - acc: 0.7544 - val_loss: 0.8615 - val_acc: 0.7551\n",
      "Epoch 11/30\n",
      "88230/88230 [==============================] - 17s 196us/step - loss: 0.8159 - acc: 0.7685 - val_loss: 0.7962 - val_acc: 0.7733\n",
      "Epoch 12/30\n",
      "88230/88230 [==============================] - 17s 196us/step - loss: 0.7528 - acc: 0.7866 - val_loss: 0.7295 - val_acc: 0.7919\n",
      "Epoch 13/30\n",
      "88230/88230 [==============================] - 17s 196us/step - loss: 0.7078 - acc: 0.7983 - val_loss: 0.6979 - val_acc: 0.7994\n",
      "Epoch 14/30\n",
      "88230/88230 [==============================] - 17s 196us/step - loss: 0.6933 - acc: 0.8008 - val_loss: 0.6389 - val_acc: 0.8175\n",
      "Epoch 15/30\n",
      "88230/88230 [==============================] - 17s 196us/step - loss: 0.6153 - acc: 0.8233 - val_loss: 0.6331 - val_acc: 0.8186\n",
      "Epoch 16/30\n",
      "88230/88230 [==============================] - 17s 196us/step - loss: 0.5740 - acc: 0.8356 - val_loss: 0.5495 - val_acc: 0.8425\n",
      "Epoch 17/30\n",
      "88230/88230 [==============================] - 17s 194us/step - loss: 0.5151 - acc: 0.8549 - val_loss: 0.4970 - val_acc: 0.8615\n",
      "Epoch 18/30\n",
      "88230/88230 [==============================] - 17s 196us/step - loss: 0.4732 - acc: 0.8690 - val_loss: 0.4517 - val_acc: 0.8771\n",
      "Epoch 19/30\n",
      "88230/88230 [==============================] - 17s 194us/step - loss: 0.4265 - acc: 0.8849 - val_loss: 0.4319 - val_acc: 0.8854\n",
      "Epoch 20/30\n",
      "88230/88230 [==============================] - 17s 194us/step - loss: 0.3940 - acc: 0.8961 - val_loss: 0.3796 - val_acc: 0.8999\n",
      "Epoch 21/30\n",
      "88230/88230 [==============================] - 17s 192us/step - loss: 0.3793 - acc: 0.9013 - val_loss: 0.3871 - val_acc: 0.8972\n",
      "Epoch 22/30\n",
      "88230/88230 [==============================] - 17s 194us/step - loss: 0.3587 - acc: 0.9073 - val_loss: 0.3231 - val_acc: 0.9191\n",
      "Epoch 23/30\n",
      "88230/88230 [==============================] - 17s 194us/step - loss: 0.3043 - acc: 0.9248 - val_loss: 0.3104 - val_acc: 0.9236\n",
      "Epoch 24/30\n",
      "88230/88230 [==============================] - 17s 194us/step - loss: 0.2694 - acc: 0.9351 - val_loss: 0.3148 - val_acc: 0.9237\n",
      "Epoch 25/30\n",
      "88230/88230 [==============================] - 17s 194us/step - loss: 0.2556 - acc: 0.9389 - val_loss: 0.2433 - val_acc: 0.9432\n",
      "Epoch 26/30\n",
      "88230/88230 [==============================] - 17s 196us/step - loss: 0.2245 - acc: 0.9479 - val_loss: 0.2303 - val_acc: 0.9467\n",
      "Epoch 27/30\n",
      "88230/88230 [==============================] - 17s 196us/step - loss: 0.2093 - acc: 0.9514 - val_loss: 0.2116 - val_acc: 0.9509\n",
      "Epoch 28/30\n",
      "88230/88230 [==============================] - 17s 196us/step - loss: 0.1979 - acc: 0.9537 - val_loss: 0.2137 - val_acc: 0.9493\n",
      "Epoch 29/30\n",
      "88230/88230 [==============================] - 17s 196us/step - loss: 0.1913 - acc: 0.9549 - val_loss: 0.1954 - val_acc: 0.9542\n",
      "Epoch 30/30\n",
      "88230/88230 [==============================] - 17s 196us/step - loss: 0.1676 - acc: 0.9604 - val_loss: 0.1755 - val_acc: 0.9583\n"
     ]
    },
    {
     "data": {
      "text/plain": [
       "<keras.callbacks.History at 0x7ff492ae36d8>"
      ]
     },
     "execution_count": 73,
     "metadata": {},
     "output_type": "execute_result"
    }
   ],
   "source": [
    "final_rnn_model = model_final(\n",
    "    preproc_english_sentences.shape,\n",
    "    max_french_sequence_length,\n",
    "    english_vocab_size,\n",
    "    french_vocab_size)\n",
    "\n",
    "final_rnn_model.fit(english_sentences_train, french_sentences_train, batch_size=1024, epochs=30, validation_split=0.2)"
   ]
  },
  {
   "cell_type": "code",
   "execution_count": 74,
   "metadata": {},
   "outputs": [
    {
     "name": "stdout",
     "output_type": "stream",
     "text": [
      "27573/27573 [==============================] - 2s 62us/step\n",
      "Test accuracy:  0.957573320705\n"
     ]
    }
   ],
   "source": [
    "score = final_rnn_model.evaluate(english_sentences_test, french_sentences_test, batch_size=1024)\n",
    "print('Test accuracy: ', score[1])"
   ]
  },
  {
   "cell_type": "code",
   "execution_count": 75,
   "metadata": {},
   "outputs": [
    {
     "name": "stdout",
     "output_type": "stream",
     "text": [
      "# paris is usually pleasant during fall , but it is busy in september . <PAD> <PAD> <PAD>\n",
      "+ paris est généralement agréable à l'automne , mais il est occupé en septembre . <PAD> <PAD> <PAD> <PAD> <PAD> <PAD> <PAD> <PAD> <PAD>\n",
      "- paris est généralement agréable à l'automne , mais il est occupé en septembre . <PAD> <PAD> <PAD> <PAD> <PAD> <PAD> <PAD> <PAD> <PAD>\n"
     ]
    }
   ],
   "source": [
    "def indexes_to_text(indexes, tokenizer):\n",
    "    index_to_words = {id: word for word, id in tokenizer.word_index.items()}\n",
    "    index_to_words[0] = '<PAD>'\n",
    "\n",
    "    return ' '.join([index_to_words[index] for index in indexes])\n",
    "\n",
    "index = 10\n",
    "print('#', indexes_to_text(english_sentences_test[index], english_tokenizer))\n",
    "print('+', indexes_to_text(french_sentences_test[index].flatten(), french_tokenizer))\n",
    "print('-', logits_to_text(final_rnn_model.predict(np.expand_dims(english_sentences_test[index], axis=0))[0], french_tokenizer))\n",
    "\n"
   ]
  },
  {
   "cell_type": "markdown",
   "metadata": {},
   "source": [
    "## Simplified attention model\n",
    "The attention decoder in this implementation does not take next word as input. Instead it use the last state from the encoder for each timestep, like the encoder-decoder model above. Another modification is that `softmax` is used instead of `tanh` in the final activation. I also had to a `BatchNormalization` layer to calculate the logits.\n",
    "\n",
    "### Results\n",
    "The test accuracy has been improved a lot from `0.958` to `0.977`. The result was reached by adding the `BatchNormalization` layer. This layer might also improve the `model_final`, but I did not try it out.\n",
    "\n",
    "I noticed that the attention only focused on the latest encoding states and hoped it might be related to the need for more training. I added the `BatchNormalization` layer to speed it up and as expected the attention starts to focus on one word at a time. But the attention still has problems after the comma and begins focused on the latest encoding states. It might be related to the need for more training."
   ]
  },
  {
   "cell_type": "code",
   "execution_count": 35,
   "metadata": {},
   "outputs": [],
   "source": [
    "from keras.layers import Lambda, dot, Permute, concatenate, BatchNormalization\n",
    "def model_attention(input_shape, output_sequence_length, english_vocab_size, french_vocab_size):\n",
    "    \"\"\"\n",
    "    Build and train a model that incorporates embedding, encoder-decoder, and bidirectional RNN on x and y\n",
    "    :param input_shape: Tuple of input shape\n",
    "    :param output_sequence_length: Length of output sequence\n",
    "    :param english_vocab_size: Number of unique English words in the dataset\n",
    "    :param french_vocab_size: Number of unique French words in the dataset\n",
    "    :return: Keras model built, but not trained\n",
    "    \"\"\"\n",
    "    # TODO: Implement\n",
    "    learning_rate = 0.005\n",
    "    decay = 0.00001\n",
    "    units = 128\n",
    "    hidden_size = units*2\n",
    "    \n",
    "    # encoder\n",
    "    input_seq = Input(input_shape[1:])\n",
    "    encoder = Embedding(output_dim=300, input_dim=english_vocab_size, input_length=input_shape[1])(input_seq)\n",
    "    encoder = Bidirectional(GRU(units, return_sequences=True))(encoder)\n",
    "    # (?, 15, 256)\n",
    "    h_init = Lambda(lambda x: x[:, -1, :], output_shape=(hidden_size,), name='last_hidden_state')(encoder)\n",
    "    # (?, 21, 256)\n",
    "    h_init = RepeatVector(output_sequence_length)(h_init)\n",
    "    \n",
    "    # decoder\n",
    "    # (?, 21, 128)\n",
    "    decoder = GRU(128, return_sequences=True)(h_init)\n",
    "    \n",
    "    # calc attention_weights\n",
    "    # (?, 15, 128)\n",
    "    h_t_W_a = Dense(units, use_bias=False, name='attention_score_vec')(encoder)\n",
    "    # (?, 21, 15)\n",
    "    score = dot([decoder, h_t_W_a], [2, 2], name='attention_score')\n",
    "    # (?, 21, 15)\n",
    "    attention_weights = Activation('softmax', name='attention_weight')(score)\n",
    "\n",
    "    # calc logits\n",
    "    # (?, 21, 256)\n",
    "    context_vector = dot([attention_weights, encoder], [2, 1], name='context_vector')\n",
    "    # (?, 21, 384)\n",
    "    attention_output = concatenate([context_vector, decoder], name='attention_output')\n",
    "    # (?, 21, 344)\n",
    "    attention_output = TimeDistributed(BatchNormalization())(attention_output)\n",
    "    logits = TimeDistributed(Dense(french_vocab_size))(attention_output)\n",
    "\n",
    "    # tanh as activation makes it unstable\n",
    "    model = Model(input_seq, Activation('softmax')(logits))\n",
    "    \n",
    "    model.compile(loss=sparse_categorical_crossentropy,\n",
    "                  optimizer=Adam(learning_rate, decay=decay),\n",
    "                  metrics=['accuracy'])\n",
    "    \n",
    "    \n",
    "    return model\n",
    "tests.test_model_final(model_attention)\n"
   ]
  },
  {
   "cell_type": "code",
   "execution_count": 36,
   "metadata": {},
   "outputs": [
    {
     "name": "stdout",
     "output_type": "stream",
     "text": [
      "Train on 88230 samples, validate on 22058 samples\n",
      "Epoch 1/30\n",
      "88230/88230 [==============================] - 23s 256us/step - loss: 1.3819 - acc: 0.5966 - val_loss: nan - val_acc: 0.4474\n",
      "Epoch 2/30\n",
      "88230/88230 [==============================] - 20s 221us/step - loss: 0.5836 - acc: 0.7860 - val_loss: nan - val_acc: 0.5010\n",
      "Epoch 3/30\n",
      "88230/88230 [==============================] - 20s 221us/step - loss: 0.4691 - acc: 0.8364 - val_loss: nan - val_acc: 0.6316\n",
      "Epoch 4/30\n",
      "88230/88230 [==============================] - 19s 220us/step - loss: 0.4135 - acc: 0.8557 - val_loss: nan - val_acc: 0.7782\n",
      "Epoch 5/30\n",
      "88230/88230 [==============================] - 20s 222us/step - loss: 0.2838 - acc: 0.9055 - val_loss: nan - val_acc: 0.8929\n",
      "Epoch 6/30\n",
      "88230/88230 [==============================] - 19s 219us/step - loss: 0.4029 - acc: 0.8670 - val_loss: nan - val_acc: 0.8967\n",
      "Epoch 7/30\n",
      "88230/88230 [==============================] - 19s 220us/step - loss: 0.2477 - acc: 0.9198 - val_loss: nan - val_acc: 0.9248\n",
      "Epoch 8/30\n",
      "88230/88230 [==============================] - 20s 221us/step - loss: 0.2017 - acc: 0.9340 - val_loss: nan - val_acc: 0.9246\n",
      "Epoch 9/30\n",
      "88230/88230 [==============================] - 20s 221us/step - loss: 0.1803 - acc: 0.9406 - val_loss: nan - val_acc: 0.9312\n",
      "Epoch 10/30\n",
      "88230/88230 [==============================] - 19s 221us/step - loss: 0.4657 - acc: 0.8562 - val_loss: nan - val_acc: 0.8859\n",
      "Epoch 11/30\n",
      "88230/88230 [==============================] - 19s 220us/step - loss: 0.1800 - acc: 0.9456 - val_loss: nan - val_acc: 0.9422\n",
      "Epoch 12/30\n",
      "88230/88230 [==============================] - 19s 220us/step - loss: 0.1462 - acc: 0.9548 - val_loss: nan - val_acc: 0.9467\n",
      "Epoch 13/30\n",
      "88230/88230 [==============================] - 20s 221us/step - loss: 0.1328 - acc: 0.9584 - val_loss: nan - val_acc: 0.9597\n",
      "Epoch 14/30\n",
      "88230/88230 [==============================] - 19s 219us/step - loss: 0.1185 - acc: 0.9632 - val_loss: nan - val_acc: 0.9624\n",
      "Epoch 15/30\n",
      "88230/88230 [==============================] - 19s 220us/step - loss: 0.1089 - acc: 0.9662 - val_loss: nan - val_acc: 0.9645\n",
      "Epoch 16/30\n",
      "88230/88230 [==============================] - 19s 220us/step - loss: 0.2790 - acc: 0.9195 - val_loss: nan - val_acc: 0.8349\n",
      "Epoch 17/30\n",
      "88230/88230 [==============================] - 19s 220us/step - loss: 0.1698 - acc: 0.9498 - val_loss: nan - val_acc: 0.9353\n",
      "Epoch 18/30\n",
      "88230/88230 [==============================] - 19s 220us/step - loss: 0.1131 - acc: 0.9664 - val_loss: nan - val_acc: 0.9573\n",
      "Epoch 19/30\n",
      "88230/88230 [==============================] - 19s 220us/step - loss: 0.0998 - acc: 0.9700 - val_loss: nan - val_acc: 0.9691\n",
      "Epoch 20/30\n",
      "88230/88230 [==============================] - 19s 220us/step - loss: 0.0930 - acc: 0.9719 - val_loss: nan - val_acc: 0.9694\n",
      "Epoch 21/30\n",
      "88230/88230 [==============================] - 19s 220us/step - loss: 0.0843 - acc: 0.9747 - val_loss: nan - val_acc: 0.9707\n",
      "Epoch 22/30\n",
      "88230/88230 [==============================] - 19s 218us/step - loss: 0.0781 - acc: 0.9766 - val_loss: nan - val_acc: 0.9711\n",
      "Epoch 23/30\n",
      "88230/88230 [==============================] - 19s 220us/step - loss: 0.0744 - acc: 0.9775 - val_loss: nan - val_acc: 0.9691\n",
      "Epoch 24/30\n",
      "88230/88230 [==============================] - 19s 220us/step - loss: 0.3435 - acc: 0.9047 - val_loss: nan - val_acc: 0.8572\n",
      "Epoch 25/30\n",
      "88230/88230 [==============================] - 19s 220us/step - loss: 0.1595 - acc: 0.9560 - val_loss: nan - val_acc: 0.9642\n",
      "Epoch 26/30\n",
      "88230/88230 [==============================] - 19s 220us/step - loss: 0.1875 - acc: 0.9433 - val_loss: nan - val_acc: 0.9668\n",
      "Epoch 27/30\n",
      "88230/88230 [==============================] - 20s 222us/step - loss: 0.0920 - acc: 0.9744 - val_loss: nan - val_acc: 0.9722\n",
      "Epoch 28/30\n",
      "88230/88230 [==============================] - 19s 221us/step - loss: 0.0811 - acc: 0.9773 - val_loss: nan - val_acc: 0.9702\n",
      "Epoch 29/30\n",
      "88230/88230 [==============================] - 19s 220us/step - loss: 0.0763 - acc: 0.9780 - val_loss: nan - val_acc: 0.9700\n",
      "Epoch 30/30\n",
      "88230/88230 [==============================] - 20s 221us/step - loss: 0.0692 - acc: 0.9801 - val_loss: nan - val_acc: 0.9766\n"
     ]
    },
    {
     "data": {
      "text/plain": [
       "<keras.callbacks.History at 0x7f96df0e2f60>"
      ]
     },
     "execution_count": 36,
     "metadata": {},
     "output_type": "execute_result"
    }
   ],
   "source": [
    "attention_rnn_model = model_attention(\n",
    "    preproc_english_sentences.shape,\n",
    "    max_french_sequence_length,\n",
    "    english_vocab_size,\n",
    "    french_vocab_size)\n",
    "\n",
    "#attention_rnn_model.summary()\n",
    "\n",
    "attention_rnn_model.fit(english_sentences_train, french_sentences_train, batch_size=1024, epochs=30, validation_split=0.2)"
   ]
  },
  {
   "cell_type": "code",
   "execution_count": 37,
   "metadata": {},
   "outputs": [
    {
     "name": "stdout",
     "output_type": "stream",
     "text": [
      "27573/27573 [==============================] - 2s 76us/step\n",
      "Test accuracy:  0.97677768031\n"
     ]
    }
   ],
   "source": [
    "score = attention_rnn_model.evaluate(english_sentences_test, french_sentences_test, batch_size=1024)\n",
    "print('Test accuracy: ', score[1])"
   ]
  },
  {
   "cell_type": "code",
   "execution_count": 40,
   "metadata": {},
   "outputs": [
    {
     "name": "stdout",
     "output_type": "stream",
     "text": [
      "# france is sometimes rainy during june , and it is sometimes quiet in april . <PAD> <PAD>\n",
      "+ la france est parfois pluvieux en juin , et il est parfois calme en avril . <PAD> <PAD> <PAD> <PAD> <PAD> <PAD> <PAD>\n",
      "- la france est parfois pluvieux en juin , et il est parfois calme en avril . <PAD> <PAD> <PAD> <PAD> <PAD> <PAD> <PAD>\n"
     ]
    }
   ],
   "source": [
    "def indexes_to_text(indexes, tokenizer):\n",
    "    index_to_words = {id: word for word, id in tokenizer.word_index.items()}\n",
    "    index_to_words[0] = '<PAD>'\n",
    "\n",
    "    return ' '.join([index_to_words[index] for index in indexes])\n",
    "\n",
    "index = 2\n",
    "print('#', indexes_to_text(english_sentences_test[index], english_tokenizer))\n",
    "print('+', indexes_to_text(french_sentences_test[index].flatten(), french_tokenizer))\n",
    "print('-', logits_to_text(attention_rnn_model.predict(np.expand_dims(english_sentences_test[index], axis=0))[0], french_tokenizer))\n"
   ]
  },
  {
   "cell_type": "markdown",
   "metadata": {},
   "source": [
    "## Visualize attension\n",
    "I have tried to visualize the attention by plotting the activations of the attention_weight layer."
   ]
  },
  {
   "cell_type": "code",
   "execution_count": 44,
   "metadata": {},
   "outputs": [
    {
     "name": "stdout",
     "output_type": "stream",
     "text": [
      "france is sometimes rainy during june , and it is sometimes quiet in april . <PAD> <PAD>\n",
      "la france est parfois pluvieux en juin , et il est parfois calme en avril . <PAD> <PAD> <PAD> <PAD> <PAD> <PAD> <PAD>\n"
     ]
    }
   ],
   "source": [
    "index = 2\n",
    "english_sentense = english_sentences_test[index]\n",
    "english_text = indexes_to_text(english_sentense, english_tokenizer)\n",
    "french_text = indexes_to_text(french_sentences_test[index].flatten(), french_tokenizer)\n",
    "print(english_text)\n",
    "print(french_text)\n",
    "\n",
    "model = attention_rnn_model\n",
    "\n",
    "def get_activation(name):\n",
    "    activation_model = Model(inputs=model.input, outputs=model.get_layer(name).output)\n",
    "    return activation_model.predict(np.expand_dims(english_sentense, axis=0))[0]\n",
    "\n",
    "activation = get_activation('attention_weight')\n",
    "with open('attention_weight', 'wb') as fd: \n",
    "    np.save(fd, activation)"
   ]
  },
  {
   "cell_type": "code",
   "execution_count": 45,
   "metadata": {},
   "outputs": [],
   "source": [
    "import numpy as np\n",
    "\n",
    "with open('attention_weight', 'rb') as fd: \n",
    "    context_vector = np.load(fd)\n",
    "    \n",
    "context_vector = context_vector.transpose()"
   ]
  },
  {
   "cell_type": "code",
   "execution_count": 46,
   "metadata": {},
   "outputs": [
    {
     "data": {
      "text/plain": [
       "<matplotlib.figure.Figure at 0x7f96dc75d0f0>"
      ]
     },
     "metadata": {},
     "output_type": "display_data"
    },
    {
     "data": {
      "image/png": "[encoded data removed]",
      "text/plain": [
       "<matplotlib.figure.Figure at 0x7f96dc735518>"
      ]
     },
     "metadata": {
      "needs_background": "light"
     },
     "output_type": "display_data"
    }
   ],
   "source": [
    "import matplotlib.ticker as ticker\n",
    "import matplotlib.cm as cm\n",
    "import matplotlib as mpl\n",
    "\n",
    "import matplotlib.pyplot as plt\n",
    "%matplotlib inline\n",
    "\n",
    "\n",
    "english = [''] + english_text.split()\n",
    "french = [''] + french_text.split()\n",
    "\n",
    "fig = plt.figure()\n",
    "fig, ax = plt.subplots(1,1, figsize=(12,12))\n",
    "heatplot = ax.imshow(context_vector, cmap='BuPu')\n",
    "ax.set_xticklabels(french)\n",
    "ax.set_yticklabels(english)\n",
    "plt.setp(ax.get_xticklabels(), rotation=45, ha=\"right\",\n",
    "         rotation_mode=\"anchor\")\n",
    "\n",
    "tick_spacing = 1\n",
    "ax.xaxis.set_major_locator(ticker.MultipleLocator(tick_spacing))\n",
    "ax.yaxis.set_major_locator(ticker.MultipleLocator(tick_spacing))"
   ]
  },
  {
   "cell_type": "code",
   "execution_count": null,
   "metadata": {},
   "outputs": [],
   "source": []
  }
 ],
 "metadata": {
  "kernelspec": {
   "display_name": "Python 3",
   "language": "python",
   "name": "python3"
  },
  "language_info": {
   "codemirror_mode": {
    "name": "ipython",
    "version": 3
   },
   "file_extension": ".py",
   "mimetype": "text/x-python",
   "name": "python",
   "nbconvert_exporter": "python",
   "pygments_lexer": "ipython3",
   "version": "3.6.3"
  }
 },
 "nbformat": 4,
 "nbformat_minor": 1
}
